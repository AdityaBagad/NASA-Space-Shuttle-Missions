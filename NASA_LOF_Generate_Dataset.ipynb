{
 "cells": [
  {
   "cell_type": "code",
   "execution_count": 1,
   "metadata": {},
   "outputs": [],
   "source": [
    "# Import Libraries for Web Scraping\n",
    "from urllib.request import urlopen as uReq\n",
    "from bs4 import BeautifulSoup as soup"
   ]
  },
  {
   "cell_type": "code",
   "execution_count": 2,
   "metadata": {},
   "outputs": [],
   "source": [
    "# Links for the scraping the website\n",
    "\n",
    "# Launches_and_orbital_flights\n",
    "# source: https://en.wikipedia.org/wiki/List_of_Space_Shuttle_missions\n",
    "\n",
    "# NASA Budget\n",
    "# source: https://en.wikipedia.org/wiki/Budget_of_NASA"
   ]
  },
  {
   "cell_type": "code",
   "execution_count": 3,
   "metadata": {},
   "outputs": [],
   "source": [
    "LaunchesOrbitalFlights_url = 'https://en.wikipedia.org/wiki/List_of_Space_Shuttle_missions'"
   ]
  },
  {
   "cell_type": "code",
   "execution_count": 4,
   "metadata": {},
   "outputs": [],
   "source": [
    "# Opening up connection, grabbing the page\n",
    "uClient = uReq(LaunchesOrbitalFlights_url)\n",
    "\n",
    "flight_data = uClient.read()\n",
    "\n",
    "uClient.close()"
   ]
  },
  {
   "cell_type": "code",
   "execution_count": 5,
   "metadata": {},
   "outputs": [],
   "source": [
    "# Html parsing\n",
    "page_soup = soup(flight_data , 'html.parser')"
   ]
  },
  {
   "cell_type": "code",
   "execution_count": 6,
   "metadata": {},
   "outputs": [],
   "source": [
    "launches_table = page_soup.find_all('table', {'class', 'sortable wikitable' })[1]"
   ]
  },
  {
   "cell_type": "code",
   "execution_count": 7,
   "metadata": {},
   "outputs": [],
   "source": [
    "cells = []\n",
    "table_rows = launches_table.find_all('tr')\n",
    "cells = [tr.find_all('td') for tr in table_rows]\n",
    "\n",
    "# Remove the 0th index because it was an empty list\n",
    "del cells[0]"
   ]
  },
  {
   "cell_type": "code",
   "execution_count": 8,
   "metadata": {},
   "outputs": [
    {
     "name": "stdout",
     "output_type": "stream",
     "text": [
      "1981 Columbia Edwards\n",
      "1981 Columbia Edwards\n",
      "1982 Columbia White Sands\n",
      "1982 Columbia Edwards\n",
      "1982 Columbia Edwards\n",
      "1983 Challenger Edwards\n",
      "1983 Challenger Edwards\n",
      "1983 Challenger Edwards\n",
      "1983 Columbia Edwards\n",
      "1984 Challenger Kennedy\n",
      "1984 Challenger Edwards\n",
      "1984 Discovery Edwards\n",
      "1984 Challenger Kennedy\n",
      "1984 Discovery Kennedy\n",
      "1985 Discovery Kennedy\n",
      "1985 Discovery Kennedy\n",
      "1985 Challenger Edwards\n",
      "1985 Discovery Edwards\n",
      "1985 Challenger Edwards\n",
      "1985 Discovery Edwards\n",
      "1985 Atlantis Edwards\n",
      "1985 Challenger Edwards\n",
      "1985 Atlantis Edwards\n",
      "1986 Columbia Edwards\n",
      "1986 Challenger [b]\n",
      "1988 Discovery Edwards\n",
      "1988 Atlantis Edwards\n",
      "1989 Discovery Edwards\n",
      "1989 Atlantis Edwards\n",
      "1989 Columbia Edwards\n",
      "1989 Atlantis Edwards\n",
      "1989 Discovery Edwards\n",
      "1990 Columbia Edwards\n",
      "1990 Atlantis Edwards\n",
      "1990 Discovery Edwards\n",
      "1990 Discovery Edwards\n",
      "1990 Atlantis Kennedy\n",
      "1990 Columbia Edwards\n",
      "1991 Atlantis Edwards\n",
      "1991 Discovery Kennedy\n",
      "1991 Columbia Edwards\n",
      "1991 Atlantis Kennedy\n",
      "1991 Discovery Edwards\n",
      "1991 Atlantis Edwards\n",
      "1992 Discovery Edwards\n",
      "1992 Atlantis Kennedy\n",
      "1992 Endeavour Edwards\n",
      "1992 Columbia Kennedy\n",
      "1992 Atlantis Kennedy\n",
      "1992 Endeavour Kennedy\n",
      "1992 Columbia Kennedy\n",
      "1992 Discovery Edwards\n",
      "1993 Endeavour Kennedy\n",
      "1993 Discovery Kennedy\n",
      "1993 Columbia Edwards\n",
      "1993 Endeavour Kennedy\n",
      "1993 Discovery Kennedy\n",
      "1993 Columbia Edwards\n",
      "1993 Endeavour Kennedy\n",
      "1994 Discovery Kennedy\n",
      "1994 Columbia Kennedy\n",
      "1994 Endeavour Edwards\n",
      "1994 Columbia Kennedy\n",
      "1994 Discovery Edwards\n",
      "1994 Endeavour Edwards\n",
      "1994 Atlantis Edwards\n",
      "1995 Discovery Kennedy\n",
      "1995 Endeavour Edwards\n",
      "1995 Atlantis Kennedy\n",
      "1995 Discovery Kennedy\n",
      "1995 Endeavour Kennedy\n",
      "1995 Columbia Kennedy\n",
      "1995 Atlantis Kennedy\n",
      "1996 Endeavour Kennedy\n",
      "1996 Columbia Kennedy\n",
      "1996 Atlantis Edwards\n",
      "1996 Endeavour Kennedy\n",
      "1996 Columbia Kennedy\n",
      "1996 Atlantis Kennedy\n",
      "1996 Columbia Kennedy\n",
      "1997 Atlantis Kennedy\n",
      "1997 Discovery Kennedy\n",
      "1997 Columbia Kennedy\n",
      "1997 Atlantis Kennedy\n",
      "1997 Columbia Kennedy\n",
      "1997 Discovery Kennedy\n",
      "1997 Atlantis Kennedy\n",
      "1997 Columbia Kennedy\n",
      "1998 Endeavour Kennedy\n",
      "1998 Columbia Kennedy\n",
      "1998 Discovery Kennedy\n",
      "1998 Discovery Kennedy\n",
      "1998 Endeavour Kennedy\n",
      "1999 Discovery Kennedy\n",
      "1999 Columbia Kennedy\n",
      "1999 Discovery Kennedy\n",
      "2000 Endeavour Kennedy\n",
      "2000 Atlantis Kennedy\n",
      "2000 Atlantis Kennedy\n",
      "2000 Discovery Edwards\n",
      "2000 Endeavour Kennedy\n",
      "2001 Atlantis Edwards\n",
      "2001 Discovery Kennedy\n",
      "2001 Endeavour Edwards\n",
      "2001 Atlantis Kennedy\n",
      "2001 Discovery Kennedy\n",
      "2001 Endeavour Kennedy\n",
      "2002 Columbia Kennedy\n",
      "2002 Atlantis Kennedy\n",
      "2002 Endeavour Edwards\n",
      "2002 Atlantis Kennedy\n",
      "2002 Endeavour Kennedy\n",
      "2003 Columbia [b]\n",
      "2005 Discovery Edwards\n",
      "2006 Discovery Kennedy\n",
      "2006 Atlantis Kennedy\n",
      "2006 Discovery Kennedy\n",
      "2007 Atlantis Edwards\n",
      "2007 Endeavour Kennedy\n",
      "2007 Discovery Kennedy\n",
      "2008 Atlantis Kennedy\n",
      "2008 Endeavour Kennedy\n",
      "2008 Discovery Kennedy\n",
      "2008 Endeavour Edwards\n",
      "2009 Discovery Kennedy\n",
      "2009 Atlantis Edwards\n",
      "2009 Endeavour Kennedy\n",
      "2009 Discovery Edwards\n",
      "2009 Atlantis Kennedy\n",
      "2010 Endeavour Kennedy\n",
      "2010 Discovery Kennedy\n",
      "2010 Atlantis Kennedy\n",
      "2011 Discovery Kennedy\n",
      "2011 Endeavour Kennedy\n",
      "2011 Atlantis Kennedy\n"
     ]
    }
   ],
   "source": [
    "year = [] \n",
    "shuttle = [] \n",
    "landing_site = []\n",
    "\n",
    "for index, val in enumerate(cells):\n",
    "    year.append(cells[index][0].span.text.split()[2]) \n",
    "    shuttle.append(cells[index][2].a.text)\n",
    "    landing_site.append((cells[index][5].a.text))\n",
    "    print(year[index],shuttle[index],landing_site[index])"
   ]
  },
  {
   "cell_type": "code",
   "execution_count": 9,
   "metadata": {},
   "outputs": [
    {
     "name": "stdout",
     "output_type": "stream",
     "text": [
      "1986 Challenger [b]\n",
      "2003 Columbia [b]\n"
     ]
    }
   ],
   "source": [
    "# Data Cleaning Manually\n",
    "landing_site[2] = 'White Sands'\n",
    "\n",
    "for ind, val in enumerate(landing_site):\n",
    "    if landing_site[ind] == '[b]':\n",
    "        print(year[ind], shuttle[ind], landing_site[ind])\n",
    "        del year[ind] \n",
    "        del shuttle[ind]\n",
    "        del landing_site[ind]"
   ]
  },
  {
   "cell_type": "code",
   "execution_count": 10,
   "metadata": {},
   "outputs": [
    {
     "data": {
      "text/plain": [
       "(133, 133, 133)"
      ]
     },
     "execution_count": 10,
     "metadata": {},
     "output_type": "execute_result"
    }
   ],
   "source": [
    "len(year),len(landing_site),len(shuttle)"
   ]
  },
  {
   "cell_type": "code",
   "execution_count": 11,
   "metadata": {},
   "outputs": [
    {
     "data": {
      "text/plain": [
       "({'Edwards', 'Kennedy', 'White Sands'},\n",
       " {'Atlantis', 'Challenger', 'Columbia', 'Discovery', 'Endeavour'})"
      ]
     },
     "execution_count": 11,
     "metadata": {},
     "output_type": "execute_result"
    }
   ],
   "source": [
    "set(landing_site), set(shuttle)"
   ]
  },
  {
   "cell_type": "code",
   "execution_count": 12,
   "metadata": {},
   "outputs": [],
   "source": [
    "# Write the data to csv file\n",
    "fhandle = open('LaunchesAndOrbitalFlights.csv','w')\n",
    "headers = 'Year,Shuttle,LandingSite\\n'\n",
    "fhandle.write(headers)\n",
    "\n",
    "for y, s, ls in zip(year, shuttle, landing_site):\n",
    "    fhandle.write((y) + ',' + (s) + ',' + (ls) + '\\n')\n",
    "fhandle.close()"
   ]
  }
 ],
 "metadata": {
  "kernelspec": {
   "display_name": "Python 3",
   "language": "python",
   "name": "python3"
  },
  "language_info": {
   "codemirror_mode": {
    "name": "ipython",
    "version": 3
   },
   "file_extension": ".py",
   "mimetype": "text/x-python",
   "name": "python",
   "nbconvert_exporter": "python",
   "pygments_lexer": "ipython3",
   "version": "3.7.0"
  }
 },
 "nbformat": 4,
 "nbformat_minor": 2
}
