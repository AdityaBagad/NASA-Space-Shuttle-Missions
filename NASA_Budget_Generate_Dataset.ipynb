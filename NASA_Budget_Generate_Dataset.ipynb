{
 "cells": [
  {
   "cell_type": "code",
   "execution_count": 1,
   "metadata": {},
   "outputs": [],
   "source": [
    "# Import Libraries for Web Scraping and Regular Expression\n",
    "from urllib.request import urlopen as uReq\n",
    "from bs4 import BeautifulSoup as soup\n",
    "import re"
   ]
  },
  {
   "cell_type": "code",
   "execution_count": 2,
   "metadata": {},
   "outputs": [],
   "source": [
    "Budget_url = 'https://en.wikipedia.org/wiki/Budget_of_NASA'"
   ]
  },
  {
   "cell_type": "code",
   "execution_count": 3,
   "metadata": {},
   "outputs": [],
   "source": [
    "# Opening up connection, grabbing the page\n",
    "uClient = uReq(Budget_url)\n",
    "\n",
    "budget_data = uClient.read()\n",
    "\n",
    "uClient.close()"
   ]
  },
  {
   "cell_type": "code",
   "execution_count": 4,
   "metadata": {},
   "outputs": [],
   "source": [
    "# Html parsing\n",
    "page_soup = soup(budget_data , 'html.parser')"
   ]
  },
  {
   "cell_type": "code",
   "execution_count": 5,
   "metadata": {},
   "outputs": [],
   "source": [
    "budget_table = page_soup.find_all('table', {'class', 'wikitable' })\n",
    "\n",
    "cells = []\n",
    "\n",
    "for table in budget_table:\n",
    "    table_rows = table.find_all('tr')\n",
    "    cells.append([tr.find_all('td') for tr in table_rows])"
   ]
  },
  {
   "cell_type": "code",
   "execution_count": 6,
   "metadata": {},
   "outputs": [],
   "source": [
    "# Delete the 0th and 1st index because they are empty list\n",
    "del cells[0][0:2]\n",
    "del cells[1][0:2]"
   ]
  },
  {
   "cell_type": "code",
   "execution_count": 7,
   "metadata": {},
   "outputs": [],
   "source": [
    "table1 = cells[0]\n",
    "table2 = cells[1]"
   ]
  },
  {
   "cell_type": "code",
   "execution_count": 8,
   "metadata": {},
   "outputs": [],
   "source": [
    "year = []\n",
    "nominal_dollars = []\n",
    "constant_dollars = []\n",
    "fed_budget = []\n",
    "\n",
    "for td in table1:\n",
    "    year.append(td[0].text)\n",
    "    nominal_dollars.append(td[1].text)\n",
    "    fed_budget.append(td[2].text)\n",
    "    constant_dollars.append(td[3].text.rstrip())"
   ]
  },
  {
   "cell_type": "code",
   "execution_count": 9,
   "metadata": {},
   "outputs": [
    {
     "data": {
      "text/plain": [
       "(30, 30, 30, 30)"
      ]
     },
     "execution_count": 9,
     "metadata": {},
     "output_type": "execute_result"
    }
   ],
   "source": [
    "len(year), len(nominal_dollars), len(constant_dollars), len(fed_budget)"
   ]
  },
  {
   "cell_type": "code",
   "execution_count": 10,
   "metadata": {},
   "outputs": [],
   "source": [
    "for td in table2:\n",
    "#     print(td[0].text)\n",
    "#     print(td[1].find(string=re.compile('\\d')))\n",
    "#     print(td[3].text)\n",
    "    year.append(td[0].text)\n",
    "    nominal_dollars.append((td[1].find(string=re.compile('\\d'))))\n",
    "    constant_dollars.append(td[3].text.rstrip())\n",
    "    fed_budget.append(td[2].text)\n",
    "    if td[0].text == 'FY2017':\n",
    "        break"
   ]
  },
  {
   "cell_type": "code",
   "execution_count": 11,
   "metadata": {},
   "outputs": [
    {
     "data": {
      "text/plain": [
       "(60, 60, 60, 60)"
      ]
     },
     "execution_count": 11,
     "metadata": {},
     "output_type": "execute_result"
    }
   ],
   "source": [
    "len(year), len(nominal_dollars), len(constant_dollars), len(fed_budget)"
   ]
  },
  {
   "cell_type": "code",
   "execution_count": 12,
   "metadata": {},
   "outputs": [],
   "source": [
    "# Remove commas in nominal_dollars and constant_dollars\n",
    "for ind, val in enumerate(nominal_dollars):\n",
    "    nominal_dollars[ind] = val.replace(',', '')\n",
    "    \n",
    "for ind, val in enumerate(constant_dollars):\n",
    "    constant_dollars[ind] = val.replace(',', '')\n",
    "\n",
    "# Remove FY from the Year list\n",
    "for ind, val in enumerate(year):\n",
    "    year[ind] = re.sub('FY','',val)\n",
    "\n",
    "# Remove Percent from the fed_budget\n",
    "for ind, val in enumerate(fed_budget):\n",
    "    fed_budget[ind] = re.sub('%','',val)"
   ]
  },
  {
   "cell_type": "code",
   "execution_count": 13,
   "metadata": {},
   "outputs": [
    {
     "name": "stdout",
     "output_type": "stream",
     "text": [
      "1958 - 0.1 - 89 - 732\n",
      "1959 - 0.2 - 145 - 1185\n",
      "1960 - 0.5 - 401 - 3222\n",
      "1961 - 0.9 - 744 - 5918\n",
      "1962 - 1.18 - 1257 - 9900\n",
      "1963 - 2.29 - 2552 - 19836\n",
      "1964 - 3.52 - 4171 - 32002\n",
      "1965 - 4.31 - 5092 - 38448\n",
      "1966 - 4.41 - 5933 - 43554\n",
      "1967 - 3.45 - 5425 - 38633\n",
      "1968 - 2.65 - 4722 - 32274\n",
      "1969 - 2.31 - 4251 - 27550\n",
      "1970 - 1.92 - 3752 - 23000\n",
      "1971 - 1.61 - 3382 - 19862\n",
      "1972 - 1.48 - 3423 - 19477\n",
      "1973 - 1.35 - 3312 - 17742\n",
      "1974 - 1.21 - 3255 - 15704\n",
      "1975 - 0.98 - 3269 - 14452\n",
      "1976 - 0.99 - 3671 - 15345\n",
      "1977 - 0.98 - 4002 - 15707\n",
      "1978 - 0.91 - 4164 - 15190\n",
      "1979 - 0.87 - 4380 - 14349\n",
      "1980 - 0.84 - 4959 - 14314\n",
      "1981 - 0.82 - 5537 - 14488\n",
      "1982 - 0.83 - 6155 - 15170\n",
      "1983 - 0.85 - 6853 - 16365\n",
      "1984 - 0.83 - 7055 - 16150\n",
      "1985 - 0.77 - 7251 - 16028\n",
      "1986 - 0.75 - 7403 - 16065\n",
      "1987 - 0.76 - 7591 - 15893\n",
      "1988 - 0.85 - 9092 - 18280\n",
      "1989 - 0.96 - 11036 - 21168\n",
      "1990 - 0.99 - 12429 - 22618\n",
      "1991 - 1.05 - 13878 - 24235\n",
      "1992 - 1.01 - 13961 - 23668\n",
      "1993 - 1.01 - 14305 - 23546\n",
      "1994 - 0.94 - 13695 - 21979\n",
      "1995 - 0.88 - 13378 - 20879\n",
      "1996 - 0.89 - 13881 - 21042\n",
      "1997 - 0.90 - 14360 - 21280\n",
      "1998 - 0.86 - 14194 - 20712\n",
      "1999 - 0.80 - 13636 - 19467\n",
      "2000 - 0.75 - 13428 - 18547\n",
      "2001 - 0.76 - 14095 - 18940\n",
      "2002 - 0.72 - 14405 - 19045\n",
      "2003 - 0.68 - 14610 - 18885\n",
      "2004 - 0.66 - 15152 - 19078\n",
      "2005 - 0.63 - 15602 - 19001\n",
      "2006 - 0.57 - 15125 - 17844\n",
      "2007 - 0.58 - 15861 - 18194\n",
      "2008 - 0.60 - 17833 - 19700\n",
      "2009 - 0.57 - 17782 - 19714\n",
      "2010 - 0.52 - 18724 - 20423\n",
      "2011 - 0.51 - 18448 - 17833\n",
      "2012 - 0.50 - 17770 - 17471\n",
      "2013 - 0.49 - 16865 - 17219\n",
      "2014 - 0.50 - 17647 - 17647\n",
      "2015 - 0.49 - 18010 - 17989\n",
      "2016 - 0.50 - 19300 - 19037\n",
      "2017 - 0.47 - 19508 - 18866\n"
     ]
    }
   ],
   "source": [
    "# Print the lists\n",
    "for y, fb,nd, cd in zip(year, fed_budget, nominal_dollars, constant_dollars):\n",
    "    print( (y)+' - '+ (fb) +' - ' + (nd) + ' - ' + (cd))"
   ]
  },
  {
   "cell_type": "code",
   "execution_count": 14,
   "metadata": {},
   "outputs": [],
   "source": [
    "# Write the data to csv file\n",
    "fhandle = open('NASA-Budget.csv','w')\n",
    "headers = 'Year,FederalBudget,NominalDollars,ConstantDollars'\n",
    "fhandle.write(headers)\n",
    "\n",
    "for y, fb, nd, cd in zip(year, fed_budget, nominal_dollars, constant_dollars):\n",
    "    fhandle.write('\\n' + (y) + ',' + (fb) +  ',' + (nd) + ',' + (cd))\n",
    "fhandle.close()"
   ]
  }
 ],
 "metadata": {
  "kernelspec": {
   "display_name": "Python 3",
   "language": "python",
   "name": "python3"
  },
  "language_info": {
   "codemirror_mode": {
    "name": "ipython",
    "version": 3
   },
   "file_extension": ".py",
   "mimetype": "text/x-python",
   "name": "python",
   "nbconvert_exporter": "python",
   "pygments_lexer": "ipython3",
   "version": "3.7.0"
  }
 },
 "nbformat": 4,
 "nbformat_minor": 2
}
